{
 "cells": [
  {
   "cell_type": "code",
   "execution_count": 1,
   "id": "7f475a49",
   "metadata": {
    "tags": []
   },
   "outputs": [],
   "source": [
    "import pandas as pd\n",
    "from pathlib import Path"
   ]
  },
  {
   "cell_type": "code",
   "execution_count": 3,
   "id": "9404b480-6ecf-4189-aad8-27bed958274c",
   "metadata": {
    "tags": []
   },
   "outputs": [
    {
     "data": {
      "text/plain": [
       "'/Users/jacobfield/Documents/bc/homework/pandas-challenge/PyCitySchools'"
      ]
     },
     "execution_count": 3,
     "metadata": {},
     "output_type": "execute_result"
    }
   ],
   "source": [
    "pwd"
   ]
  },
  {
   "cell_type": "code",
   "execution_count": 49,
   "id": "c4279925-19c9-4aae-9565-12e856c5cedd",
   "metadata": {
    "tags": []
   },
   "outputs": [],
   "source": [
    "# read in CSVs as pandas dataframes\n",
    "schoolsPath = Path('Resources/schools_complete.csv')\n",
    "schools_df = pd.read_csv(schoolsPath)\n",
    "studentsPath = Path('Resources/students_complete.csv')\n",
    "students_df = pd.read_csv(studentsPath)"
   ]
  },
  {
   "cell_type": "code",
   "execution_count": 53,
   "id": "1a609cd4-8a9d-4194-b84a-dd0acb82a467",
   "metadata": {
    "tags": []
   },
   "outputs": [
    {
     "name": "stdout",
     "output_type": "stream",
     "text": [
      "   School ID        school_name      type  size   budget\n",
      "0          0  Huang High School  District  2917  1910635\n",
      "   Student ID  student_name gender grade        school_name  reading_score  \\\n",
      "0           0  Paul Bradley      M   9th  Huang High School             66   \n",
      "\n",
      "   math_score  \n",
      "0          79  \n"
     ]
    }
   ],
   "source": [
    "print(schools_df.head(1))\n",
    "print(students_df.head(1))"
   ]
  },
  {
   "cell_type": "markdown",
   "id": "68f8b890-144a-4d05-990f-95332c2c80fa",
   "metadata": {
    "jp-MarkdownHeadingCollapsed": true,
    "tags": []
   },
   "source": [
    "## District Summary\n",
    "\n",
    "A high-level snapshot of key metrics for the school district"
   ]
  },
  {
   "cell_type": "code",
   "execution_count": 28,
   "id": "33f4254a-85ba-4acb-9658-8b641ae841f0",
   "metadata": {
    "tags": []
   },
   "outputs": [],
   "source": [
    "schoolCount =len(schools_df[\"school_name\"].unique())\n",
    "studentsTot = schools_df[\"size\"].sum()\n",
    "budgetTot = schools_df[\"budget\"].sum()\n",
    "mathScoreAvg = students_df[\"math_score\"].mean()\n",
    "readingScoreAvg = students_df[\"reading_score\"].mean()"
   ]
  },
  {
   "cell_type": "code",
   "execution_count": 29,
   "id": "7d949e4e-5595-40fd-945a-98e4b742487a",
   "metadata": {
    "tags": []
   },
   "outputs": [],
   "source": [
    "mathPassPct = 0"
   ]
  },
  {
   "cell_type": "code",
   "execution_count": 30,
   "id": "1c54a447-3ae3-4d0b-8bae-dd6b5c32438f",
   "metadata": {
    "tags": []
   },
   "outputs": [],
   "source": [
    "readingPassPct = 0"
   ]
  },
  {
   "cell_type": "code",
   "execution_count": 31,
   "id": "1ae68789-1bb7-46b6-9768-cd53fdd7063e",
   "metadata": {
    "tags": []
   },
   "outputs": [],
   "source": [
    "passPct = 0"
   ]
  },
  {
   "cell_type": "code",
   "execution_count": 54,
   "id": "8ae2873c-9cf8-4675-ac18-24f16465c92e",
   "metadata": {
    "tags": []
   },
   "outputs": [
    {
     "data": {
      "text/html": [
       "<div>\n",
       "<style scoped>\n",
       "    .dataframe tbody tr th:only-of-type {\n",
       "        vertical-align: middle;\n",
       "    }\n",
       "\n",
       "    .dataframe tbody tr th {\n",
       "        vertical-align: top;\n",
       "    }\n",
       "\n",
       "    .dataframe thead th {\n",
       "        text-align: right;\n",
       "    }\n",
       "</style>\n",
       "<table border=\"1\" class=\"dataframe\">\n",
       "  <thead>\n",
       "    <tr style=\"text-align: right;\">\n",
       "      <th></th>\n",
       "      <th>Unique Schools</th>\n",
       "      <th>Total Students</th>\n",
       "      <th>Total Budget</th>\n",
       "      <th>Math Score Avg</th>\n",
       "      <th>Reading Score Avg</th>\n",
       "      <th>% Passing Math</th>\n",
       "      <th>% Passing Reading</th>\n",
       "      <th>% Overall Passing</th>\n",
       "    </tr>\n",
       "  </thead>\n",
       "  <tbody>\n",
       "    <tr>\n",
       "      <th>0</th>\n",
       "      <td>15</td>\n",
       "      <td>39170</td>\n",
       "      <td>24649428</td>\n",
       "      <td>78.985371</td>\n",
       "      <td>81.87784</td>\n",
       "      <td>0</td>\n",
       "      <td>0</td>\n",
       "      <td>0</td>\n",
       "    </tr>\n",
       "  </tbody>\n",
       "</table>\n",
       "</div>"
      ],
      "text/plain": [
       "   Unique Schools  Total Students  Total Budget  Math Score Avg  \\\n",
       "0              15           39170      24649428       78.985371   \n",
       "\n",
       "   Reading Score Avg  % Passing Math  % Passing Reading  % Overall Passing  \n",
       "0           81.87784               0                  0                  0  "
      ]
     },
     "execution_count": 54,
     "metadata": {},
     "output_type": "execute_result"
    }
   ],
   "source": [
    "# set into DataFrame for District Summary\n",
    "district_summary = pd.DataFrame([{\n",
    "    \"Unique Schools\": schoolCount,\n",
    "    \"Total Students\": studentsTot,\n",
    "    \"Total Budget\": budgetTot,\n",
    "    \"Math Score Avg\": mathScoreAvg,\n",
    "    \"Reading Score Avg\": readingScoreAvg,\n",
    "    \"% Passing Math\": mathPassPct,\n",
    "    \"% Passing Reading\": readingPassPct,\n",
    "    \"% Overall Passing\": passPct\n",
    "}])\n",
    "district_summary"
   ]
  },
  {
   "cell_type": "markdown",
   "id": "922caa46-da1c-46e8-b8f0-277fa8af90fa",
   "metadata": {
    "tags": []
   },
   "source": [
    "## School Summary\n",
    "\n",
    "Summary metrics presented at a school level"
   ]
  },
  {
   "cell_type": "code",
   "execution_count": 55,
   "id": "1ea60db3-e496-4c48-9a7e-3a22f0a36a89",
   "metadata": {
    "tags": []
   },
   "outputs": [],
   "source": [
    "# set into DataFrame for each school\n",
    "school_summary = pd.DataFrame({\n",
    "    \"School Name\": [],\n",
    "    \"School type\": [],\n",
    "    \"Total students\": [],\n",
    "    \"Total school budget\": [],\n",
    "    \"Per student budget\": [],\n",
    "    \"Math score avg\": [],\n",
    "    \"Reading score avg\": [],\n",
    "    \"% passing math\": [],\n",
    "    \"% passing reading\": [],\n",
    "    \"% overall passing\": [],\n",
    "})"
   ]
  },
  {
   "cell_type": "markdown",
   "id": "3deb0ddc-2e08-432f-a156-cd0583ff0098",
   "metadata": {
    "jp-MarkdownHeadingCollapsed": true,
    "tags": []
   },
   "source": [
    "## Highest- and Lowest-Performing Schools\n",
    "\n",
    "(by % Overall Passing)"
   ]
  },
  {
   "cell_type": "code",
   "execution_count": null,
   "id": "2274ae6f-d6d0-4290-93f6-056519355a1c",
   "metadata": {},
   "outputs": [],
   "source": [
    "top_schools = pd.DataFrame()"
   ]
  },
  {
   "cell_type": "code",
   "execution_count": 40,
   "id": "68e84563-c406-4ef5-97a3-a10f02b859a0",
   "metadata": {
    "tags": []
   },
   "outputs": [],
   "source": [
    "bottom_schools = pd.DataFrame()"
   ]
  },
  {
   "cell_type": "markdown",
   "id": "f341a384-2198-4b86-aa5d-7ed4103029ae",
   "metadata": {
    "jp-MarkdownHeadingCollapsed": true,
    "tags": []
   },
   "source": [
    "## Scores by Grade\n",
    "\n"
   ]
  },
  {
   "cell_type": "code",
   "execution_count": 36,
   "id": "e007e851-209b-4974-a5de-9fe60b70c455",
   "metadata": {
    "tags": []
   },
   "outputs": [
    {
     "data": {
      "text/plain": [
       "array(['9th', '12th', '11th', '10th'], dtype=object)"
      ]
     },
     "execution_count": 36,
     "metadata": {},
     "output_type": "execute_result"
    }
   ],
   "source": [
    "students_df[\"grade\"].unique()"
   ]
  },
  {
   "cell_type": "code",
   "execution_count": null,
   "id": "540c3461-f518-492e-81f8-348838498060",
   "metadata": {},
   "outputs": [],
   "source": [
    "# Math"
   ]
  },
  {
   "cell_type": "code",
   "execution_count": null,
   "id": "bd3d911b-1f86-4c69-b877-03b7ed6d0a18",
   "metadata": {},
   "outputs": [],
   "source": [
    "# Reading"
   ]
  },
  {
   "cell_type": "markdown",
   "id": "a02134ac-08c8-4317-a492-e45f43226afc",
   "metadata": {
    "jp-MarkdownHeadingCollapsed": true,
    "tags": []
   },
   "source": [
    "## Scores by School Spending"
   ]
  },
  {
   "cell_type": "code",
   "execution_count": 39,
   "id": "8c376e4b-d593-418d-90e4-17ab75f478b3",
   "metadata": {
    "tags": []
   },
   "outputs": [],
   "source": [
    "# bins provided by BC\n",
    "spending_bins = [0, 585, 630, 645, 680]\n",
    "labels = [\"<$585\", \"$585-630\", \"$630-645\", \"$645-680\"]"
   ]
  },
  {
   "cell_type": "code",
   "execution_count": 42,
   "id": "9264c883-898c-468a-8de5-810166ff1e6b",
   "metadata": {
    "tags": []
   },
   "outputs": [],
   "source": [
    "# use pd.cut() to cat spending by bin\n",
    "school_spending_df = pd.DataFrame()"
   ]
  },
  {
   "cell_type": "code",
   "execution_count": null,
   "id": "ca9f764f-8fe5-453a-8d2a-ac60ea1f50bf",
   "metadata": {
    "tags": []
   },
   "outputs": [],
   "source": [
    "# Calculate mean scores per spending range\n",
    "# code provided by BC\n",
    "spending_math_scores = school_spending_df.groupby([\"Spending Ranges (Per Student)\"])[\"Average Math Score\"].mean()\n",
    "spending_reading_scores = school_spending_df.groupby([\"Spending Ranges (Per Student)\"])[\"Average Reading Score\"].mean()\n",
    "spending_passing_math = school_spending_df.groupby([\"Spending Ranges (Per Student)\"])[\"% Passing Math\"].mean()\n",
    "spending_passing_reading = school_spending_df.groupby([\"Spending Ranges (Per Student)\"])[\"% Passing Reading\"].mean()\n",
    "overall_passing_spending = school_spending_df.groupby([\"Spending Ranges (Per Student)\"])[\"% Overall Passing\"].mean()"
   ]
  },
  {
   "cell_type": "code",
   "execution_count": null,
   "id": "c2b920ca-7343-4b3c-8dbb-ca155ae6c10c",
   "metadata": {
    "tags": []
   },
   "outputs": [],
   "source": [
    "# set into summary dataframe\n",
    "spending_summary = pd.DataFrame([{\n",
    "    \"Average math score\": spending_math_scores,\n",
    "    \"Average reading score\": spending_reading_scores,\n",
    "    \"% passing math\": spending_passing_math,\n",
    "    \"% passing reading\": spending_passing_reading,\n",
    "    \"% overall passing\": overall_passing_spending\n",
    "}])"
   ]
  },
  {
   "cell_type": "markdown",
   "id": "59bb7b36-5b00-4a7c-9d0a-38da3fd647f1",
   "metadata": {
    "jp-MarkdownHeadingCollapsed": true,
    "tags": []
   },
   "source": [
    "## Scores by School Size"
   ]
  },
  {
   "cell_type": "code",
   "execution_count": 48,
   "id": "6314012a-8849-470b-87b5-02e3e3949608",
   "metadata": {
    "tags": []
   },
   "outputs": [],
   "source": [
    "# bins provided by BC\n",
    "size_bins = [0, 1000, 2000, 5000]\n",
    "labels = [\"Small (<1000)\", \"Medium (1000-2000)\", \"Large (2000-5000)\"]"
   ]
  },
  {
   "cell_type": "code",
   "execution_count": null,
   "id": "697ee079-4a12-45f0-b638-a3e594269393",
   "metadata": {},
   "outputs": [],
   "source": [
    "# Use pd.cut on the \"Total Students\" column of the per_school_summary DataFrame.\n"
   ]
  },
  {
   "cell_type": "code",
   "execution_count": null,
   "id": "2cd7b02d-720a-4767-950d-007ee37e2623",
   "metadata": {},
   "outputs": [],
   "source": [
    "size_summary = pd.DataFrame()"
   ]
  },
  {
   "cell_type": "markdown",
   "id": "32e32736-89b2-4825-af12-feba0854c6c1",
   "metadata": {},
   "source": [
    "## Scores by School Type"
   ]
  },
  {
   "cell_type": "code",
   "execution_count": null,
   "id": "24f65c03-20ba-4a3a-8e56-b1db55045b86",
   "metadata": {},
   "outputs": [],
   "source": []
  }
 ],
 "metadata": {
  "kernelspec": {
   "display_name": "Python 3 (ipykernel)",
   "language": "python",
   "name": "python3"
  },
  "language_info": {
   "codemirror_mode": {
    "name": "ipython",
    "version": 3
   },
   "file_extension": ".py",
   "mimetype": "text/x-python",
   "name": "python",
   "nbconvert_exporter": "python",
   "pygments_lexer": "ipython3",
   "version": "3.10.12"
  }
 },
 "nbformat": 4,
 "nbformat_minor": 5
}
